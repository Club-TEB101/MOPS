{
 "cells": [
  {
   "cell_type": "code",
   "execution_count": 121,
   "metadata": {},
   "outputs": [],
   "source": [
    "import pandas as pd\n",
    "import numpy as np\n",
    "import json"
   ]
  },
  {
   "cell_type": "code",
   "execution_count": 127,
   "metadata": {},
   "outputs": [
    {
     "name": "stdout",
     "output_type": "stream",
     "text": [
      "[[[1, '資產'], ''], [[2, '流動資產'], ''], [[3, '現金及約當現金'], ''], [[4, '現金及約當現金總額'], '26608300'], [[3, '透過損益按公允價值衡量之金融資產－流動'], ''], [[4, '透過損益按公允價值衡量之金融資產－流動合計'], '147571'], [[3, '備供出售金融資產－流動'], ''], [[4, '備供出售金融資產－流動淨額'], '20061583'], [[3, '應收票據淨額'], ''], [[4, '應收票據淨額'], '15800456'], [[3, '應收帳款淨額'], ''], [[4, '應收帳款淨額'], '6800265'], [[3, '應收帳款－關係人淨額'], ''], [[4, '應收帳款－關係人淨額'], '205600'], [[3, '其他應收款'], ''], [[4, '其他應收款淨額'], '410446'], [[3, '其他應收款－關係人'], ''], [[4, '其他應收款－關係人淨額'], '214394'], [[3, '存貨'], ''], [[4, '存貨合計'], '9493855'], [[3, '預付款項'], ''], [[4, '預付款項合計'], '3967788'], [[3, '其他流動資產'], ''], [[4, '其他金融資產－流動'], '950591'], [[4, '其他流動資產－其他'], '659353'], [[4, '其他流動資產合計'], '1609944'], [[3, '流動資產合計'], '85320202'], [[2, '非流動資產'], ''], [[3, '備供出售金融資產－非流動'], ''], [[4, '備供出售金融資產－非流動淨額'], '5587598'], [[3, '以成本衡量之金融資產－非流動'], ''], [[4, '以成本衡量之金融資產－非流動淨額'], '583023'], [[3, '採用權益法之投資'], ''], [[4, '採用權益法之投資淨額'], '7808566'], [[3, '不動產、廠房及設備'], ''], [[4, '不動產、廠房及設備合計'], '96681867'], [[3, '投資性不動產淨額'], ''], [[4, '投資性不動產淨額'], '6065297'], [[3, '無形資產'], ''], [[4, '無形資產合計'], '20695038'], [[3, '其他非流動資產'], ''], [[4, '預付設備款'], '2858825'], [[4, '長期應收票據及款項'], ''], [[5, '長期應收票據及款項淨額'], '32653393'], [[4, '淨確定福利資產-非流動'], '828266'], [[4, '長期預付租金'], '6816018'], [[4, '其他非流動資產－其他'], ''], [[5, '其他非流動資產－其他'], '3559803'], [[5, '其他非流動資產－其他合計'], '3559803'], [[4, '其他非流動資產合計'], '46716305'], [[3, '非流動資產合計'], '184137694'], [[2, '資產總計'], '269457896'], [[1, '負債及權益'], ''], [[2, '負債'], ''], [[3, '流動負債'], ''], [[4, '短期借款'], ''], [[5, '短期借款合計'], '24346180'], [[4, '應付短期票券'], ''], [[5, '應付短期票券合計'], '7967148'], [[4, '應付帳款'], ''], [[5, '應付帳款合計'], '8041997'], [[4, '其他應付款'], ''], [[5, '其他應付款－其他'], '7334015'], [[5, '其他應付款合計'], '7334015'], [[4, '本期所得稅負債'], '811229'], [[4, '其他流動負債'], ''], [[5, '預收款項'], ''], [[6, '預收款項合計'], '4396158'], [[5, '一年或一營業週期內到期長期負債'], ''], [[6, '一年或一營業週期內到期長期負債合計'], '12176652'], [[5, '其他流動負債－其他'], '194624'], [[5, '其他流動負債合計'], '16767434'], [[4, '流動負債合計'], '65268003'], [[3, '非流動負債'], ''], [[4, '長期借款'], ''], [[5, '長期借款合計'], '40246010'], [[4, '遞延所得稅負債'], ''], [[5, '遞延所得稅負債合計'], '10282372'], [[4, '其他非流動負債'], ''], [[5, '淨確定福利負債-非流動'], '160052'], [[5, '其他非流動負債－其他'], '534890'], [[5, '其他非流動負債合計'], '694942'], [[4, '非流動負債合計'], '51223324'], [[3, '負債總計'], '116491327'], [[2, '權益'], ''], [[3, '歸屬於母公司業主之權益'], ''], [[4, '股本'], ''], [[5, '普通股股本'], '36921759'], [[5, '股本合計'], '36921759'], [[4, '資本公積'], ''], [[5, '資本公積合計'], '13535897'], [[4, '保留盈餘'], ''], [[5, '保留盈餘合計'], '46932681'], [[4, '其他權益'], ''], [[5, '其他權益合計'], '14831885'], [[4, '歸屬於母公司業主之權益合計'], '112222222'], [[3, '非控制權益'], '40744347'], [[3, '權益總額'], '152966569'], [[2, '負債及權益總計'], '269457896'], [[2, '預收股款（權益項下）之約當發行股數'], '0'], [[2, '母公司暨子公司所持有之母公司庫藏股股數（單位：股）'], '0']]\n"
     ]
    }
   ],
   "source": [
    "data=json.load(open('2017Q3/1101-2017-Q3.json'))['data']\n",
    "print(data[0].get('Balance'))\n",
    "\n",
    "for _ in data[0].get('Balance'):\n",
    "    \n"
   ]
  },
  {
   "cell_type": "code",
   "execution_count": 124,
   "metadata": {},
   "outputs": [
    {
     "data": {
      "text/html": [
       "<div>\n",
       "<style scoped>\n",
       "    .dataframe tbody tr th:only-of-type {\n",
       "        vertical-align: middle;\n",
       "    }\n",
       "\n",
       "    .dataframe tbody tr th {\n",
       "        vertical-align: top;\n",
       "    }\n",
       "\n",
       "    .dataframe thead th {\n",
       "        text-align: right;\n",
       "    }\n",
       "</style>\n",
       "<table border=\"1\" class=\"dataframe\">\n",
       "  <thead>\n",
       "    <tr style=\"text-align: right;\">\n",
       "      <th></th>\n",
       "      <th>cht</th>\n",
       "      <th>value</th>\n",
       "    </tr>\n",
       "  </thead>\n",
       "  <tbody>\n",
       "    <tr>\n",
       "      <th>0</th>\n",
       "      <td>[1, 資產]</td>\n",
       "      <td>None</td>\n",
       "    </tr>\n",
       "    <tr>\n",
       "      <th>1</th>\n",
       "      <td>[2, 流動資產]</td>\n",
       "      <td>None</td>\n",
       "    </tr>\n",
       "    <tr>\n",
       "      <th>2</th>\n",
       "      <td>[3, 現金及約當現金]</td>\n",
       "      <td>None</td>\n",
       "    </tr>\n",
       "    <tr>\n",
       "      <th>3</th>\n",
       "      <td>[4, 現金及約當現金總額]</td>\n",
       "      <td>26608300</td>\n",
       "    </tr>\n",
       "    <tr>\n",
       "      <th>4</th>\n",
       "      <td>[3, 透過損益按公允價值衡量之金融資產－流動]</td>\n",
       "      <td>None</td>\n",
       "    </tr>\n",
       "    <tr>\n",
       "      <th>...</th>\n",
       "      <td>...</td>\n",
       "      <td>...</td>\n",
       "    </tr>\n",
       "    <tr>\n",
       "      <th>96</th>\n",
       "      <td>[3, 非控制權益]</td>\n",
       "      <td>40744347</td>\n",
       "    </tr>\n",
       "    <tr>\n",
       "      <th>97</th>\n",
       "      <td>[3, 權益總額]</td>\n",
       "      <td>152966569</td>\n",
       "    </tr>\n",
       "    <tr>\n",
       "      <th>98</th>\n",
       "      <td>[2, 負債及權益總計]</td>\n",
       "      <td>269457896</td>\n",
       "    </tr>\n",
       "    <tr>\n",
       "      <th>99</th>\n",
       "      <td>[2, 預收股款（權益項下）之約當發行股數]</td>\n",
       "      <td>0</td>\n",
       "    </tr>\n",
       "    <tr>\n",
       "      <th>100</th>\n",
       "      <td>[2, 母公司暨子公司所持有之母公司庫藏股股數（單位：股）]</td>\n",
       "      <td>0</td>\n",
       "    </tr>\n",
       "  </tbody>\n",
       "</table>\n",
       "<p>101 rows × 2 columns</p>\n",
       "</div>"
      ],
      "text/plain": [
       "                                cht      value\n",
       "0                           [1, 資產]       None\n",
       "1                         [2, 流動資產]       None\n",
       "2                      [3, 現金及約當現金]       None\n",
       "3                    [4, 現金及約當現金總額]   26608300\n",
       "4          [3, 透過損益按公允價值衡量之金融資產－流動]       None\n",
       "..                              ...        ...\n",
       "96                       [3, 非控制權益]   40744347\n",
       "97                        [3, 權益總額]  152966569\n",
       "98                     [2, 負債及權益總計]  269457896\n",
       "99           [2, 預收股款（權益項下）之約當發行股數]          0\n",
       "100  [2, 母公司暨子公司所持有之母公司庫藏股股數（單位：股）]          0\n",
       "\n",
       "[101 rows x 2 columns]"
      ]
     },
     "execution_count": 124,
     "metadata": {},
     "output_type": "execute_result"
    }
   ],
   "source": [
    "df=pd.DataFrame(data[0]['Balance'], columns=['cht', 'value'])\n",
    "df['value']=df['value'].replace({'': None})\n",
    "df\n",
    "#df=df.dropna()\n",
    "#df[df['cht'].duplicated()]"
   ]
  },
  {
   "cell_type": "code",
   "execution_count": 119,
   "metadata": {},
   "outputs": [
    {
     "data": {
      "text/plain": [
       "set()"
      ]
     },
     "execution_count": 119,
     "metadata": {},
     "output_type": "execute_result"
    }
   ],
   "source": [
    "PLduSet=set()\n",
    "#print(data[1]['ProfitLoss'])\n",
    "df=pd.DataFrame(data[1]['ProfitLoss'], columns=['cht', 'value'])\n",
    "#df[df['value']=='']\n",
    "df['value']=df['value'].replace({'': None})\n",
    "df=df.dropna()\n",
    "df[df['cht'].duplicated()]\n",
    "for _ in list(df[df['cht'].duplicated()]['cht']):\n",
    "    PLduSet.add(_)\n",
    "PLduSet\n"
   ]
  },
  {
   "cell_type": "code",
   "execution_count": 103,
   "metadata": {
    "scrolled": true
   },
   "outputs": [
    {
     "data": {
      "text/html": [
       "<div>\n",
       "<style scoped>\n",
       "    .dataframe tbody tr th:only-of-type {\n",
       "        vertical-align: middle;\n",
       "    }\n",
       "\n",
       "    .dataframe tbody tr th {\n",
       "        vertical-align: top;\n",
       "    }\n",
       "\n",
       "    .dataframe thead th {\n",
       "        text-align: right;\n",
       "    }\n",
       "</style>\n",
       "<table border=\"1\" class=\"dataframe\">\n",
       "  <thead>\n",
       "    <tr style=\"text-align: right;\">\n",
       "      <th></th>\n",
       "      <th>cht</th>\n",
       "      <th>value</th>\n",
       "    </tr>\n",
       "  </thead>\n",
       "  <tbody>\n",
       "  </tbody>\n",
       "</table>\n",
       "</div>"
      ],
      "text/plain": [
       "Empty DataFrame\n",
       "Columns: [cht, value]\n",
       "Index: []"
      ]
     },
     "execution_count": 103,
     "metadata": {},
     "output_type": "execute_result"
    }
   ],
   "source": [
    "#print(data[2]['CashFlows'])\n",
    "df=pd.DataFrame(data[2]['CashFlows'], columns=['cht', 'value'])\n",
    "df['value']=df['value'].replace({'': None})\n",
    "df=df.dropna()\n",
    "df[df['cht'].duplicated()]"
   ]
  }
 ],
 "metadata": {
  "kernelspec": {
   "display_name": "Python 3",
   "language": "python",
   "name": "python3"
  },
  "language_info": {
   "codemirror_mode": {
    "name": "ipython",
    "version": 3
   },
   "file_extension": ".py",
   "mimetype": "text/x-python",
   "name": "python",
   "nbconvert_exporter": "python",
   "pygments_lexer": "ipython3",
   "version": "3.7.7"
  }
 },
 "nbformat": 4,
 "nbformat_minor": 4
}
